{
 "cells": [
  {
   "cell_type": "code",
   "execution_count": 1,
   "id": "extensive-indicator",
   "metadata": {},
   "outputs": [],
   "source": [
    "import torch\n",
    "from torch import nn"
   ]
  },
  {
   "cell_type": "code",
   "execution_count": 2,
   "id": "strange-ecuador",
   "metadata": {},
   "outputs": [],
   "source": [
    "class BaseColor(nn.Module):\n",
    "    def __init__(self):\n",
    "        super(BaseColor, self).__init__()\n",
    "\n",
    "        self.l_cent = 50.\n",
    "        self.l_norm = 100.\n",
    "        self.ab_norm = 110.\n",
    "\n",
    "    def normalize_l(self, in_l):\n",
    "        return (in_l-self.l_cent)/self.l_norm\n",
    "\n",
    "    def unnormalize_l(self, in_l):\n",
    "        return in_l*self.l_norm + self.l_cent\n",
    "\n",
    "    def normalize_ab(self, in_ab):\n",
    "        return in_ab/self.ab_norm\n",
    "\n",
    "    def unnormalize_ab(self, in_ab):\n",
    "        return in_ab*self.ab_norm"
   ]
  },
  {
   "cell_type": "code",
   "execution_count": null,
   "id": "corrected-carol",
   "metadata": {},
   "outputs": [],
   "source": []
  },
  {
   "cell_type": "code",
   "execution_count": null,
   "id": "likely-workplace",
   "metadata": {},
   "outputs": [],
   "source": []
  }
 ],
 "metadata": {
  "kernelspec": {
   "display_name": "Python 3",
   "language": "python",
   "name": "python3"
  },
  "language_info": {
   "codemirror_mode": {
    "name": "ipython",
    "version": 3
   },
   "file_extension": ".py",
   "mimetype": "text/x-python",
   "name": "python",
   "nbconvert_exporter": "python",
   "pygments_lexer": "ipython3",
   "version": "3.8.3"
  }
 },
 "nbformat": 4,
 "nbformat_minor": 5
}
