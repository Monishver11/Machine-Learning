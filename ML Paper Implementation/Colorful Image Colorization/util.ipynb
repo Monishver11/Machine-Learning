{
 "cells": [
  {
   "cell_type": "code",
   "execution_count": 2,
   "id": "preliminary-jenny",
   "metadata": {},
   "outputs": [
    {
     "name": "stdout",
     "output_type": "stream",
     "text": [
      "Collecting scikit-image\n",
      "  Using cached scikit_image-0.18.1-cp38-cp38-win_amd64.whl (12.2 MB)\n",
      "Collecting tifffile>=2019.7.26\n",
      "  Using cached tifffile-2021.3.17-py3-none-any.whl (163 kB)\n",
      "Collecting imageio>=2.3.0\n",
      "  Using cached imageio-2.9.0-py3-none-any.whl (3.3 MB)\n",
      "Requirement already satisfied: matplotlib!=3.0.0,>=2.0.0 in c:\\users\\monis\\appdata\\local\\programs\\python\\python38\\lib\\site-packages (from scikit-image) (3.3.3)\n",
      "Collecting networkx>=2.0\n",
      "  Using cached networkx-2.5-py3-none-any.whl (1.6 MB)\n",
      "Requirement already satisfied: pillow!=7.1.0,!=7.1.1,>=4.3.0 in c:\\users\\monis\\appdata\\local\\programs\\python\\python38\\lib\\site-packages (from scikit-image) (8.1.0)\n",
      "Requirement already satisfied: scipy>=1.0.1 in c:\\users\\monis\\appdata\\local\\programs\\python\\python38\\lib\\site-packages (from scikit-image) (1.4.1)\n",
      "Collecting PyWavelets>=1.1.1\n",
      "  Using cached PyWavelets-1.1.1-cp38-cp38-win_amd64.whl (4.3 MB)\n",
      "Requirement already satisfied: numpy>=1.16.5 in c:\\users\\monis\\appdata\\local\\programs\\python\\python38\\lib\\site-packages (from scikit-image) (1.18.5)\n",
      "Requirement already satisfied: cycler>=0.10 in c:\\users\\monis\\appdata\\local\\programs\\python\\python38\\lib\\site-packages (from matplotlib!=3.0.0,>=2.0.0->scikit-image) (0.10.0)\n",
      "Requirement already satisfied: kiwisolver>=1.0.1 in c:\\users\\monis\\appdata\\local\\programs\\python\\python38\\lib\\site-packages (from matplotlib!=3.0.0,>=2.0.0->scikit-image) (1.3.1)\n",
      "Requirement already satisfied: python-dateutil>=2.1 in c:\\users\\monis\\appdata\\local\\programs\\python\\python38\\lib\\site-packages (from matplotlib!=3.0.0,>=2.0.0->scikit-image) (2.8.1)\n",
      "Requirement already satisfied: pyparsing!=2.0.4,!=2.1.2,!=2.1.6,>=2.0.3 in c:\\users\\monis\\appdata\\local\\programs\\python\\python38\\lib\\site-packages (from matplotlib!=3.0.0,>=2.0.0->scikit-image) (2.4.7)\n",
      "Requirement already satisfied: six in c:\\users\\monis\\appdata\\local\\programs\\python\\python38\\lib\\site-packages (from cycler>=0.10->matplotlib!=3.0.0,>=2.0.0->scikit-image) (1.15.0)\n",
      "Requirement already satisfied: decorator>=4.3.0 in c:\\users\\monis\\appdata\\local\\programs\\python\\python38\\lib\\site-packages (from networkx>=2.0->scikit-image) (4.4.2)\n",
      "Installing collected packages: tifffile, PyWavelets, networkx, imageio, scikit-image\n",
      "Successfully installed PyWavelets-1.1.1 imageio-2.9.0 networkx-2.5 scikit-image-0.18.1 tifffile-2021.3.17\n"
     ]
    },
    {
     "name": "stderr",
     "output_type": "stream",
     "text": [
      "WARNING: You are using pip version 21.0; however, version 21.0.1 is available.\n",
      "You should consider upgrading via the 'c:\\users\\monis\\appdata\\local\\programs\\python\\python38\\python.exe -m pip install --upgrade pip' command.\n"
     ]
    }
   ],
   "source": [
    "import sys\n",
    "!{sys.executable} -m pip install scikit-image"
   ]
  },
  {
   "cell_type": "code",
   "execution_count": 5,
   "id": "narrow-beauty",
   "metadata": {},
   "outputs": [
    {
     "name": "stdout",
     "output_type": "stream",
     "text": [
      "Collecting torch\n",
      "  Using cached torch-1.8.1-cp38-cp38-win_amd64.whl (190.5 MB)\n",
      "Requirement already satisfied: typing-extensions in c:\\users\\monis\\appdata\\local\\programs\\python\\python38\\lib\\site-packages (from torch) (3.7.4.3)\n",
      "Requirement already satisfied: numpy in c:\\users\\monis\\appdata\\local\\programs\\python\\python38\\lib\\site-packages (from torch) (1.18.5)\n",
      "Installing collected packages: torch\n",
      "Successfully installed torch-1.8.1\n"
     ]
    },
    {
     "name": "stderr",
     "output_type": "stream",
     "text": [
      "WARNING: You are using pip version 21.0; however, version 21.0.1 is available.\n",
      "You should consider upgrading via the 'c:\\users\\monis\\appdata\\local\\programs\\python\\python38\\python.exe -m pip install --upgrade pip' command.\n"
     ]
    }
   ],
   "source": [
    "!{sys.executable} -m pip install torch"
   ]
  },
  {
   "cell_type": "code",
   "execution_count": 6,
   "id": "constitutional-elephant",
   "metadata": {},
   "outputs": [],
   "source": [
    "from PIL import Image\n",
    "import numpy as np\n",
    "from skimage import color\n",
    "import torch\n",
    "import torch.nn.functional as F\n",
    "from IPython import embed"
   ]
  },
  {
   "cell_type": "code",
   "execution_count": 7,
   "id": "medium-hygiene",
   "metadata": {},
   "outputs": [],
   "source": [
    "def load_img(img_path):\n",
    "    out_np = np.asarray(Image.open(img_path))\n",
    "    if(out_np.ndim==2):\n",
    "        out_np = np.tile(out_np[:,:,None],3)\n",
    "    return out_np"
   ]
  },
  {
   "cell_type": "code",
   "execution_count": 8,
   "id": "thrown-entity",
   "metadata": {},
   "outputs": [],
   "source": [
    "def resize_img(img, HW=(256,256), resample=3):\n",
    "    return np.asarray(Image.fromarray(img).resize((HW[1],HW[0]), resample=resample))"
   ]
  },
  {
   "cell_type": "code",
   "execution_count": 10,
   "id": "recognized-factor",
   "metadata": {},
   "outputs": [],
   "source": [
    "def preprocess_img(img_rgb_orig, HW=(256,256), resample=3):\n",
    "    # return original size L and resized L as torch Tensors\n",
    "    img_rgb_rs = resize_img(img_rgb_orig, HW=HW, resample=resample)\n",
    "    \n",
    "    img_lab_orig = color.rgb2lab(img_rgb_orig)\n",
    "    img_lab_rs = color.rgb2lab(img_rgb_rs)\n",
    "\n",
    "    img_l_orig = img_lab_orig[:,:,0]\n",
    "    img_l_rs = img_lab_rs[:,:,0]\n",
    "\n",
    "    tens_orig_l = torch.Tensor(img_l_orig)[None,None,:,:]\n",
    "    tens_rs_l = torch.Tensor(img_l_rs)[None,None,:,:]\n",
    "\n",
    "    return (tens_orig_l, tens_rs_l)"
   ]
  },
  {
   "cell_type": "code",
   "execution_count": 11,
   "id": "raised-valuable",
   "metadata": {},
   "outputs": [],
   "source": [
    "def postprocess_tens(tens_orig_l, out_ab, mode='bilinear'):\n",
    "    # tens_orig_l 1 x 1 x H_orig x W_orig\n",
    "    # out_ab 1 x 2 x H x W\n",
    "\n",
    "    HW_orig = tens_orig_l.shape[2:]\n",
    "    HW = out_ab.shape[2:]\n",
    "\n",
    "    # call resize function if needed\n",
    "    if(HW_orig[0]!=HW[0] or HW_orig[1]!=HW[1]):\n",
    "        out_ab_orig = F.interpolate(out_ab, size=HW_orig, mode='bilinear')\n",
    "    else:\n",
    "        out_ab_orig = out_ab\n",
    "\n",
    "    out_lab_orig = torch.cat((tens_orig_l, out_ab_orig), dim=1)\n",
    "    return color.lab2rgb(out_lab_orig.data.cpu().numpy()[0,...].transpose((1,2,0)))\n"
   ]
  },
  {
   "cell_type": "code",
   "execution_count": null,
   "id": "recovered-edinburgh",
   "metadata": {},
   "outputs": [],
   "source": []
  },
  {
   "cell_type": "code",
   "execution_count": null,
   "id": "flexible-linux",
   "metadata": {},
   "outputs": [],
   "source": []
  }
 ],
 "metadata": {
  "kernelspec": {
   "display_name": "Python 3",
   "language": "python",
   "name": "python3"
  },
  "language_info": {
   "codemirror_mode": {
    "name": "ipython",
    "version": 3
   },
   "file_extension": ".py",
   "mimetype": "text/x-python",
   "name": "python",
   "nbconvert_exporter": "python",
   "pygments_lexer": "ipython3",
   "version": "3.8.3"
  }
 },
 "nbformat": 4,
 "nbformat_minor": 5
}
