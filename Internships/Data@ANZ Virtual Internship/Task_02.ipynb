{
 "cells": [
  {
   "cell_type": "code",
   "execution_count": 9,
   "id": "unlimited-anniversary",
   "metadata": {},
   "outputs": [],
   "source": [
    "import numpy as np\n",
    "import pandas as pd\n",
    "from sklearn.linear_model import LinearRegression\n",
    "from sklearn.tree import DecisionTreeClassifier, DecisionTreeRegressor"
   ]
  },
  {
   "cell_type": "code",
   "execution_count": 10,
   "id": "operational-monroe",
   "metadata": {},
   "outputs": [],
   "source": [
    "df = pd.read_excel(r'C:\\\\Users\\\\monis\\\\Desktop\\\\ML-Ang\\\\Data@ANZ\\\\ANZ synthesised transaction dataset.xlsx')\n"
   ]
  },
  {
   "cell_type": "code",
   "execution_count": 11,
   "id": "assigned-edward",
   "metadata": {},
   "outputs": [
    {
     "data": {
      "text/plain": [
       "array(['POS', 'SALES-POS', 'PAYMENT', 'INTER BANK', 'PAY/SALARY',\n",
       "       'PHONE BANK'], dtype=object)"
      ]
     },
     "execution_count": 11,
     "metadata": {},
     "output_type": "execute_result"
    }
   ],
   "source": [
    "df['txn_description'].unique()"
   ]
  },
  {
   "cell_type": "code",
   "execution_count": 12,
   "id": "young-pledge",
   "metadata": {},
   "outputs": [],
   "source": [
    "df_salaries = df[df[\"txn_description\"] == \"PAY/SALARY\"].groupby(\"customer_id\").mean()"
   ]
  },
  {
   "cell_type": "code",
   "execution_count": 13,
   "id": "athletic-neutral",
   "metadata": {},
   "outputs": [],
   "source": [
    "salaries = []\n",
    "for customer_id in df[\"customer_id\"]:\n",
    "    salaries.append(int(df_salaries.loc[customer_id][\"amount\"]))\n",
    "df[\"annual_salary\"] = salaries\n"
   ]
  },
  {
   "cell_type": "code",
   "execution_count": 14,
   "id": "prescribed-radius",
   "metadata": {},
   "outputs": [
    {
     "name": "stdout",
     "output_type": "stream",
     "text": [
      "Mean annual salary by customer: \n",
      "                card_present_flag  merchant_code       balance  age  \\\n",
      "customer_id                                                           \n",
      "CUS-1005756958           0.812500            0.0   2275.852055   53   \n",
      "CUS-1117979751           0.826923            0.0   9829.929000   21   \n",
      "CUS-1140341822           0.815385            0.0   5699.212250   28   \n",
      "CUS-1147642491           0.750000            0.0   9032.841186   34   \n",
      "CUS-1196156254           0.785276            0.0  22272.433755   34   \n",
      "\n",
      "                    amount  annual_salary  \n",
      "customer_id                                \n",
      "CUS-1005756958  222.862603            970  \n",
      "CUS-1117979751  339.843700           3578  \n",
      "CUS-1140341822  212.632500           1916  \n",
      "CUS-1147642491  245.600169           1711  \n",
      "CUS-1196156254  147.145796           3903   \n",
      "\n"
     ]
    }
   ],
   "source": [
    "df_cus = df.groupby(\"customer_id\").mean()\n",
    "print(\"Mean annual salary by customer: \")\n",
    "print(df_cus.head(), \"\\n\")\n"
   ]
  },
  {
   "cell_type": "code",
   "execution_count": 15,
   "id": "positive-antique",
   "metadata": {},
   "outputs": [],
   "source": [
    "N_train = int(len(df_cus)*0.75)\n",
    "X_train = df_cus.drop(\"annual_salary\", axis=1).iloc[:N_train]\n",
    "Y_train = df_cus[\"annual_salary\"].iloc[:N_train]\n",
    "X_test = df_cus.drop(\"annual_salary\", axis=1).iloc[N_train:]\n",
    "Y_test = df_cus[\"annual_salary\"].iloc[N_train:]"
   ]
  },
  {
   "cell_type": "code",
   "execution_count": 16,
   "id": "accredited-venezuela",
   "metadata": {},
   "outputs": [
    {
     "name": "stdout",
     "output_type": "stream",
     "text": [
      "Linear Regression Training Score: 0.23255533946132068\n",
      "\n",
      "Predictions using test data:\n",
      "[2747.58159688 2644.02793817 2912.47869865 2180.9844864  1654.12362756\n",
      " 2016.15816775 2909.9235597  1966.17940844 1828.57176258 2253.3926789\n",
      " 2103.93483213 1826.96722409 5445.75106637 1929.6581435  2209.29054535\n",
      " 1724.855757   2795.542822   2116.78502905 3884.97662458 2273.92731695\n",
      " 1806.88318638 2116.82522057 1526.713065   1808.32584381 2506.7668886 ] \n",
      "\n",
      "Linear Regression Testing Score: -0.2731795814120488\n",
      "\n"
     ]
    }
   ],
   "source": [
    "linear_reg = LinearRegression()\n",
    "linear_reg.fit(X_train, Y_train)\n",
    "print(f\"Linear Regression Training Score: {linear_reg.score(X_train, Y_train)}\\n\")\n",
    "\n",
    "print(\"Predictions using test data:\")\n",
    "print(linear_reg.predict(X_test), \"\\n\")\n",
    "\n",
    "print(f\"Linear Regression Testing Score: {linear_reg.score(X_test, Y_test)}\\n\")"
   ]
  },
  {
   "cell_type": "code",
   "execution_count": 17,
   "id": "excessive-sweden",
   "metadata": {},
   "outputs": [
    {
     "name": "stdout",
     "output_type": "stream",
     "text": [
      "DECISION TREE - CLASSIFIER:\n",
      "\n",
      "Decision Tree Classifier Training Score: 0.7882499481004774\n",
      "\n",
      "Predictions using test data:\n",
      "[1013 1043 4132 ... 4054 1043  996] \n",
      "\n",
      "Decision Tree Classifier Testing Score: 0.755500207555002\n",
      "\n"
     ]
    }
   ],
   "source": [
    "df_cat = df[[\"txn_description\", \"gender\", \"age\", \"merchant_state\", \"movement\"]]\n",
    "# Changing all categories to dummies\n",
    "pd.get_dummies(df_cat).head()\n",
    "\n",
    "N_train = int(len(df)*0.8)\n",
    "X_train = pd.get_dummies(df_cat).iloc[:N_train]\n",
    "Y_train = df[\"annual_salary\"].iloc[:N_train]\n",
    "X_test = pd.get_dummies(df_cat).iloc[N_train:]\n",
    "Y_test = df[\"annual_salary\"].iloc[N_train:]\n",
    "\n",
    "# Classification\n",
    "print(\"DECISION TREE - CLASSIFIER:\\n\")\n",
    "decision_tree_class = DecisionTreeClassifier()\n",
    "decision_tree_class.fit(X_train, Y_train)\n",
    "print(f\"Decision Tree Classifier Training Score: {decision_tree_class.score(X_train, Y_train)}\\n\")\n",
    "\n",
    "print(\"Predictions using test data:\")\n",
    "print(decision_tree_class.predict(X_test), \"\\n\")\n",
    "\n",
    "print(f\"Decision Tree Classifier Testing Score: {decision_tree_class.score(X_test, Y_test)}\\n\")\n"
   ]
  },
  {
   "cell_type": "code",
   "execution_count": 18,
   "id": "responsible-syracuse",
   "metadata": {},
   "outputs": [
    {
     "name": "stdout",
     "output_type": "stream",
     "text": [
      "DECISION TREE - REGRESSOR:\n",
      "\n",
      "Decision Tree Regressor Training Score: 0.7468978726536879\n",
      "\n",
      "Predictions using test data:\n",
      "[1226.42857143 1043.         4132.         ... 3345.04761905 1043.\n",
      " 1626.        ] \n",
      "\n",
      "Decision Tree Regressor Testing Score: 0.6831464815299957\n",
      "\n"
     ]
    }
   ],
   "source": [
    "print(\"DECISION TREE - REGRESSOR:\\n\")\n",
    "decision_tree_reg = DecisionTreeRegressor()\n",
    "decision_tree_reg.fit(X_train, Y_train)\n",
    "print(f\"Decision Tree Regressor Training Score: {decision_tree_reg.score(X_train, Y_train)}\\n\")\n",
    "\n",
    "print(\"Predictions using test data:\")\n",
    "print(decision_tree_reg.predict(X_test), \"\\n\")\n",
    "\n",
    "print(f\"Decision Tree Regressor Testing Score: {decision_tree_reg.score(X_test, Y_test)}\\n\")"
   ]
  },
  {
   "cell_type": "markdown",
   "id": "robust-dryer",
   "metadata": {},
   "source": [
    "#### Results and Conclusions :\n",
    "##### 1) The Linear Regressor gave a negative accuracy score of -27.31 on the testing dataset, which is not we expect.\n",
    "##### 2) The Decision Tree Classsifier gave accuracy score of 75.5 on the testing dataset.\n",
    "##### 3) The Decision Tree Regrssor gave accuracy score of 68.31 on the testing dataset.\n",
    "##### 4) The Decision Tree Calssifier performed better than the other two Algorithms."
   ]
  }
 ],
 "metadata": {
  "kernelspec": {
   "display_name": "Python 3",
   "language": "python",
   "name": "python3"
  },
  "language_info": {
   "codemirror_mode": {
    "name": "ipython",
    "version": 3
   },
   "file_extension": ".py",
   "mimetype": "text/x-python",
   "name": "python",
   "nbconvert_exporter": "python",
   "pygments_lexer": "ipython3",
   "version": "3.8.3"
  }
 },
 "nbformat": 4,
 "nbformat_minor": 5
}
